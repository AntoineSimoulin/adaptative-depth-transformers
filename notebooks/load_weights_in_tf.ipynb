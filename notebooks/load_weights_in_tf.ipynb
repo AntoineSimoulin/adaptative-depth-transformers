{
 "cells": [
  {
   "cell_type": "code",
   "execution_count": null,
   "id": "8316c66b-024c-49dd-9642-b36ff4c352cf",
   "metadata": {},
   "outputs": [],
   "source": [
    "# With ipython notebooks\n",
    "%env CUDA_DEVICE_ORDER=PCI_BUS_ID\n",
    "%env CUDA_VISIBLE_DEVICES=\"\"\n",
    "\n",
    "# With python\n",
    "# import os\n",
    "# os.environ[\"CUDA_DEVICE_ORDER\"]=\"PCI_BUS_ID\"\n",
    "# os.environ['CUDA_VISIBLE_DEVICES'] = \"0,3\"  # specify which GPU(s) to be used\n",
    "\n",
    "# With bash\n",
    "# export CUDA_DEVICE_ORDER=\"PCI_BUS_ID\"\n",
    "# export CUDA_VISIBLE_DEVICES=\"0,3\" "
   ]
  },
  {
   "cell_type": "code",
   "execution_count": null,
   "id": "99db0fb6-0866-4fa3-be80-f0fc4cac7e13",
   "metadata": {},
   "outputs": [],
   "source": [
    "import sys\n",
    "sys.path.append('./src/hf/')"
   ]
  },
  {
   "cell_type": "code",
   "execution_count": null,
   "id": "efb753f2-c64f-41e9-ab1e-a2c2e22ce0d2",
   "metadata": {},
   "outputs": [],
   "source": [
    "import tensorflow as tf\n",
    "\n",
    "from modeling_albert_act_tf import TFAlbertActModel\n",
    "from configuration_albert_act import AlbertActConfig\n",
    "from transformers import AlbertTokenizer, TFAlbertModel\n",
    "import tensorflow as tf\n",
    "import os\n",
    "import numpy as np\n",
    "import json\n",
    "\n",
    "# IPython automatically reload all changed code\n",
    "%load_ext autoreload\n",
    "%autoreload 2"
   ]
  },
  {
   "cell_type": "code",
   "execution_count": null,
   "id": "f7db500e-d315-4159-930f-50a1a8259abb",
   "metadata": {},
   "outputs": [],
   "source": [
    "tf.__version__"
   ]
  },
  {
   "cell_type": "code",
   "execution_count": null,
   "id": "19813a8f-c5f2-4a2e-a51e-0fe01903c934",
   "metadata": {},
   "outputs": [],
   "source": [
    "# Initializing an ALBERT-xxlarge style configuration\n",
    "# albert_act_configuration = AlbertActConfig()\n",
    "\n",
    "\n",
    "with open('./albert_config.json', 'r') as f:\n",
    "  albert_config = json.load(f)\n",
    "\n",
    "albert_act_configuration = AlbertActConfig(attention_probs_dropout_prob= 0,\n",
    "  hidden_act=str(albert_config[\"hidden_act\"]),\n",
    "  hidden_dropout_prob=int(albert_config[\"hidden_dropout_prob\"]),\n",
    "  embedding_size=int(albert_config[\"embedding_size\"]),\n",
    "  hidden_size=int(albert_config[\"hidden_size\"]),\n",
    "  initializer_range=float(albert_config[\"initializer_range\"]),\n",
    "  intermediate_size=int(albert_config[\"intermediate_size\"]),\n",
    "  max_position_embeddings=int(albert_config[\"max_position_embeddings\"]),\n",
    "  num_attention_heads=int(albert_config[\"num_attention_heads\"]),\n",
    "  num_hidden_layers=int(albert_config[\"num_hidden_layers\"]),\n",
    "  net_structure_type=int(albert_config[\"net_structure_type\"]),\n",
    "  gap_size=int(albert_config[\"gap_size\"]),\n",
    "  num_memory_blocks=int(albert_config[\"num_memory_blocks\"]),\n",
    "  inner_group_num=int(albert_config[\"inner_group_num\"]),\n",
    "  down_scale_factor=int(albert_config[\"down_scale_factor\"]),\n",
    "  type_vocab_size=int(albert_config[\"type_vocab_size\"]),\n",
    "  vocab_size=int(albert_config[\"vocab_size\"]))"
   ]
  },
  {
   "cell_type": "code",
   "execution_count": null,
   "id": "e3cd8b71-6460-4df4-a641-6555d75acd9d",
   "metadata": {},
   "outputs": [],
   "source": [
    "tokenizer = AlbertTokenizer.from_pretrained(\"albert-base-v2\")\n",
    "model = TFAlbertActModel(albert_act_configuration)"
   ]
  },
  {
   "cell_type": "code",
   "execution_count": null,
   "id": "9a828171-5b8e-47ea-b20d-52ebb82f541d",
   "metadata": {},
   "outputs": [],
   "source": [
    "inputs = tokenizer(\"Hello, my dog is cute\", return_tensors=\"tf\")\n",
    "\n",
    "inputs"
   ]
  },
  {
   "cell_type": "code",
   "execution_count": null,
   "id": "4fc92fc4-91d3-446c-a4cc-a07f51f15a5f",
   "metadata": {},
   "outputs": [],
   "source": [
    "outputs = model(inputs, return_dict=False)"
   ]
  },
  {
   "cell_type": "code",
   "execution_count": null,
   "id": "a4584f6d-a983-48a5-b17a-b13c4f04026a",
   "metadata": {},
   "outputs": [],
   "source": [
    "assignment_map = {\n",
    "  'tf_albert_act_model/albert/embeddings/word_embeddings/weight:0': 'bert-embeddings-word_embeddings.npy',\n",
    "  'tf_albert_act_model/albert/embeddings/token_type_embeddings/embeddings:0': 'bert-embeddings-token_type_embeddings.npy',\n",
    "  'tf_albert_act_model/albert/embeddings/position_embeddings/embeddings:0': 'bert-embeddings-position_embeddings.npy',\n",
    "  'tf_albert_act_model/albert/embeddings/LayerNorm/gamma:0': 'bert-embeddings-layer_normalization-gamma.npy',\n",
    "  'tf_albert_act_model/albert/embeddings/LayerNorm/beta:0': 'bert-embeddings-layer_normalization-beta.npy',\n",
    "  'tf_albert_act_model/albert/encoder/embedding_hidden_mapping_in/kernel:0': 'bert-encoder-embedding_hidden_mapping_in-kernel.npy',\n",
    "  'tf_albert_act_model/albert/encoder/embedding_hidden_mapping_in/bias:0': 'bert-encoder-embedding_hidden_mapping_in-bias.npy',\n",
    "  'tf_albert_act_model/albert/encoder/albert_layer/attention/query/kernel:0': 'bert-encoder-transformer-attention_1-self-query-kernel.npy',\n",
    "  'tf_albert_act_model/albert/encoder/albert_layer/attention/query/bias:0': 'bert-encoder-transformer-attention_1-self-query-bias.npy',\n",
    "  'tf_albert_act_model/albert/encoder/albert_layer/attention/key/kernel:0': 'bert-encoder-transformer-attention_1-self-key-kernel.npy',\n",
    "  'tf_albert_act_model/albert/encoder/albert_layer/attention/key/bias:0': 'bert-encoder-transformer-attention_1-self-key-bias.npy',\n",
    "  'tf_albert_act_model/albert/encoder/albert_layer/attention/value/kernel:0': 'bert-encoder-transformer-attention_1-self-value-kernel.npy',\n",
    "  'tf_albert_act_model/albert/encoder/albert_layer/attention/value/bias:0': 'bert-encoder-transformer-attention_1-self-value-bias.npy',\n",
    "  'tf_albert_act_model/albert/encoder/albert_layer/attention/dense/kernel:0': 'bert-encoder-transformer-attention_1-output-dense-kernel.npy',\n",
    "  'tf_albert_act_model/albert/encoder/albert_layer/attention/dense/bias:0': 'bert-encoder-transformer-attention_1-output-dense-bias.npy',\n",
    "  'tf_albert_act_model/albert/encoder/albert_layer/act/dense/kernel:0': 'bert-encoder-transformer-halting-dense-kernel.npy',\n",
    "  'tf_albert_act_model/albert/encoder/albert_layer/act/dense/bias:0': 'bert-encoder-transformer-halting-dense-bias.npy',\n",
    "  'tf_albert_act_model/albert/encoder/albert_layer/LayerNorm/gamma:0': 'transformer-layer_normalization-gamma.npy',\n",
    "  'tf_albert_act_model/albert/encoder/albert_layer/LayerNorm/beta:0': 'transformer-layer_normalization-beta.npy',\n",
    "  'tf_albert_act_model/albert/encoder/albert_layer/ffn/kernel:0': 'bert-encoder-transformer-ffn_1-intermediate-dense-kernel.npy',\n",
    "  'tf_albert_act_model/albert/encoder/albert_layer/ffn/bias:0': 'bert-encoder-transformer-ffn_1-intermediate-dense-bias.npy',\n",
    "  'tf_albert_act_model/albert/encoder/albert_layer/ffn_output/kernel:0': 'bert-encoder-transformer-ffn_1-intermediate-output-dense-kernel.npy',\n",
    "  'tf_albert_act_model/albert/encoder/albert_layer/ffn_output/bias:0': 'bert-encoder-transformer-ffn_1-intermediate-output-dense-bias.npy',\n",
    "  'tf_albert_act_model/albert/encoder/albert_layer/full_layer_layer_norm/gamma:0': 'transformer-layer_normalization_1-gamma.npy',\n",
    "  'tf_albert_act_model/albert/encoder/albert_layer/full_layer_layer_norm/beta:0': 'transformer-layer_normalization_1-beta.npy',\n",
    "  'tf_albert_act_model/albert/pooler/kernel:0': 'bert-pooler-dense-kernel.npy',\n",
    "  'tf_albert_act_model/albert/pooler/bias:0': 'bert-pooler-dense-bias.npy',\n",
    "}"
   ]
  },
  {
   "cell_type": "code",
   "execution_count": null,
   "id": "0e0f22df-6b1d-4a83-90a2-6df7755d1012",
   "metadata": {},
   "outputs": [],
   "source": [
    "for i in range(len(model.weights)):\n",
    "  print(model.weights[i].name)\n",
    "    \n",
    "  file_name = assignment_map[model.weights[i].name]\n",
    "  print(file_name)\n",
    "\n",
    "  with open(os.path.join('./weights/', file_name), 'rb') as f:\n",
    "    save_param = np.load(f)\n",
    "    \n",
    "  model.weights[i].assign(save_param)"
   ]
  },
  {
   "cell_type": "code",
   "execution_count": null,
   "id": "357dc194-7132-4970-a798-4409150d8493",
   "metadata": {},
   "outputs": [],
   "source": [
    "model.weights[0]"
   ]
  },
  {
   "cell_type": "code",
   "execution_count": null,
   "id": "5efba52a-9daf-447d-8fa1-528e0f0f2fe9",
   "metadata": {},
   "outputs": [],
   "source": [
    "# model.save_pretrained('./albert-act-base/')"
   ]
  },
  {
   "cell_type": "code",
   "execution_count": null,
   "id": "b7836abd-60ee-48f0-89eb-f8a9abed86df",
   "metadata": {},
   "outputs": [],
   "source": [
    "from transformers import PreTrainedTokenizer"
   ]
  },
  {
   "cell_type": "code",
   "execution_count": null,
   "id": "f3c7739e-74d8-44ee-9be5-8fbd74975711",
   "metadata": {},
   "outputs": [],
   "source": [
    "tokenizer = AlbertTokenizer(vocab_file=\"./30k-clean-v2.model\")"
   ]
  },
  {
   "cell_type": "code",
   "execution_count": null,
   "id": "b298aa52-2a59-4c82-b681-0b7c72e251b4",
   "metadata": {},
   "outputs": [],
   "source": [
    "model = TFAlbertActModel.from_pretrained('./albert-act-base/')"
   ]
  },
  {
   "cell_type": "code",
   "execution_count": null,
   "id": "84fc9fbe-8230-46fc-a167-5f6218fea5d8",
   "metadata": {},
   "outputs": [],
   "source": [
    "inputs = tokenizer(\"a lump in the middle of the monkeys stirred and then fell quiet .\", return_tensors=\"tf\")\n",
    "\n",
    "inputs"
   ]
  },
  {
   "cell_type": "code",
   "execution_count": null,
   "id": "956ccc3f-ebfe-4271-b4b0-58f71750afaa",
   "metadata": {},
   "outputs": [],
   "source": [
    "outputs = model(inputs, return_dict=False)"
   ]
  },
  {
   "cell_type": "code",
   "execution_count": null,
   "id": "0b4513fa-08d6-4b24-b624-1d377f5bc477",
   "metadata": {},
   "outputs": [],
   "source": [
    "outputs = model(inputs, return_dict=True)"
   ]
  },
  {
   "cell_type": "code",
   "execution_count": null,
   "id": "66d06ce8-18c3-4b4e-b1c6-81aec116d3e5",
   "metadata": {},
   "outputs": [],
   "source": [
    "outputs.updates"
   ]
  }
 ],
 "metadata": {
  "kernelspec": {
   "display_name": "Python 3.9.5 64-bit",
   "language": "python",
   "name": "python3"
  },
  "language_info": {
   "codemirror_mode": {
    "name": "ipython",
    "version": 3
   },
   "file_extension": ".py",
   "mimetype": "text/x-python",
   "name": "python",
   "nbconvert_exporter": "python",
   "pygments_lexer": "ipython3",
   "version": "3.9.5"
  },
  "vscode": {
   "interpreter": {
    "hash": "aee8b7b246df8f9039afb4144a1f6fd8d2ca17a180786b69acc140d282b71a49"
   }
  }
 },
 "nbformat": 4,
 "nbformat_minor": 5
}
