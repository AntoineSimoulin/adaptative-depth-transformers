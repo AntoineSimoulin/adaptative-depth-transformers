{
 "cells": [
  {
   "cell_type": "code",
   "execution_count": null,
   "id": "5c2b1b2a-2b45-41da-b0a6-9759c489f1ee",
   "metadata": {},
   "outputs": [],
   "source": [
    "# With ipython notebooks\n",
    "%env CUDA_DEVICE_ORDER=PCI_BUS_ID\n",
    "%env CUDA_VISIBLE_DEVICES=\"\"\n",
    "\n",
    "# With python\n",
    "# import os\n",
    "# os.environ[\"CUDA_DEVICE_ORDER\"]=\"PCI_BUS_ID\"\n",
    "# os.environ['CUDA_VISIBLE_DEVICES'] = \"0,3\"  # specify which GPU(s) to be used\n",
    "\n",
    "# With bash\n",
    "# export CUDA_DEVICE_ORDER=\"PCI_BUS_ID\"\n",
    "# export CUDA_VISIBLE_DEVICES=\"0,3\" \n",
    "\n",
    "import os\n",
    "import numpy as np\n",
    "import tensorflow as tf\n",
    "# tf.enable_eager_execution()\n",
    "# import tensorflow.compat.v1 as tf\n",
    "# tf.disable_v2_behavior() \n",
    "# tf.enable_eager_execution()\n",
    "\n",
    "\n",
    "from albert_act import (\n",
    "    modeling, \n",
    "    optimization, \n",
    "    tokenization\n",
    ")\n",
    "\n",
    "# IPython automatically reload all changed code\n",
    "%load_ext autoreload\n",
    "%autoreload 2"
   ]
  },
  {
   "cell_type": "code",
   "execution_count": null,
   "id": "e058667e-b745-4916-b13f-557bc6d94bf1",
   "metadata": {},
   "outputs": [],
   "source": [
    "tf.__version__"
   ]
  },
  {
   "cell_type": "code",
   "execution_count": null,
   "id": "aa40589e-4e61-41df-bb46-31eb6c208d98",
   "metadata": {},
   "outputs": [],
   "source": [
    "# tf_upgrade_v2   --intree ./albert   --outtree ./albert_v2/   --reportfile report.txt"
   ]
  },
  {
   "cell_type": "code",
   "execution_count": null,
   "id": "85fd35e5-e495-4502-b1e0-94b9a55239da",
   "metadata": {},
   "outputs": [],
   "source": [
    "albert_config = modeling.AlbertConfig.from_json_file('./albert_config.json')"
   ]
  },
  {
   "cell_type": "code",
   "execution_count": null,
   "id": "a0906a2c-5ba4-4868-ba41-07d84ac89ee7",
   "metadata": {
    "tags": []
   },
   "outputs": [],
   "source": [
    "input_ids = tf.constant([[    2,    17, 11900,    14,     8,   772,    11,     8, 20797, 14527, 12,    95,  1096,  2365,    76,     3]], dtype=tf.int32)\n",
    "input_mask = tf.constant([[1, 1, 1, 1, 1, 1, 1, 1, 1, 1, 1, 1, 1, 1, 1, 1]], dtype=tf.int32)\n",
    "segment_ids = tf.constant([[0, 0, 0, 0, 0, 0, 0, 0, 0, 0, 0, 0, 0, 0, 0, 0]], dtype=tf.int32)\n",
    "# input_ids = tf.compat.v1.placeholder(tf.int32, [None, None], \"input_ids\")\n",
    "# input_mask = tf.compat.v1.placeholder(tf.int32, [None, None], \"input_mask\")\n",
    "# segment_ids = tf.compat.v1.placeholder(tf.int32, [None, None], \"segment_ids\")\n",
    "\n",
    "model = modeling.AlbertModelWithACT(\n",
    "    config=albert_config,\n",
    "    is_training=False,\n",
    "    input_ids=input_ids,\n",
    "    input_mask=input_mask,\n",
    "    token_type_ids=segment_ids,\n",
    "    use_one_hot_embeddings=False)\n"
   ]
  },
  {
   "cell_type": "code",
   "execution_count": null,
   "id": "07c9ef07-b57a-4937-b6ad-26343e60d675",
   "metadata": {},
   "outputs": [],
   "source": [
    "model.get_n_updates()"
   ]
  },
  {
   "cell_type": "code",
   "execution_count": null,
   "id": "8264b08e-155f-4069-bdf6-47aa4e69a9ad",
   "metadata": {},
   "outputs": [],
   "source": [
    "tvars = tf.trainable_variables()"
   ]
  },
  {
   "cell_type": "code",
   "execution_count": null,
   "id": "3b34090e-d2c4-4163-adca-af0db0aadf5e",
   "metadata": {},
   "outputs": [],
   "source": [
    "reader = tf.train.load_checkpoint(\"./model.ckpt-112500\")\n",
    "shapes = reader.get_variable_to_shape_map()\n",
    "dtypes = reader.get_variable_to_dtype_map()"
   ]
  },
  {
   "cell_type": "code",
   "execution_count": null,
   "id": "1c8fe169-f243-4368-a8a0-8034dce8aea8",
   "metadata": {},
   "outputs": [],
   "source": [
    "# tf.train.list_variables(\"./model.ckpt-112500\")\n",
    "reader"
   ]
  },
  {
   "cell_type": "code",
   "execution_count": null,
   "id": "b073ad75-d9cd-47c7-88db-9b910838dc1b",
   "metadata": {},
   "outputs": [],
   "source": [
    "tvars"
   ]
  },
  {
   "cell_type": "code",
   "execution_count": null,
   "id": "29753d6b-ec2d-436e-a26a-204f1f1f38cf",
   "metadata": {},
   "outputs": [],
   "source": [
    "INIT_CHECKPOINT = \"./model.ckpt-112500\""
   ]
  },
  {
   "cell_type": "code",
   "execution_count": null,
   "id": "d99c7c5e-62c6-4b36-a78a-814485fc8983",
   "metadata": {},
   "outputs": [],
   "source": [
    "(assignment_map, initialized_variable_names\n",
    "      ) = modeling.get_assignment_map_from_checkpoint(\n",
    "              tvars, INIT_CHECKPOINT, 1)"
   ]
  },
  {
   "cell_type": "code",
   "execution_count": null,
   "id": "58236bb3-230d-46cd-8471-58f5d68f374b",
   "metadata": {},
   "outputs": [],
   "source": [
    "tf.train.init_from_checkpoint(INIT_CHECKPOINT, assignment_map[0])"
   ]
  },
  {
   "cell_type": "code",
   "execution_count": null,
   "id": "b4dc320e-6072-47f3-9161-4734bb05eeb8",
   "metadata": {},
   "outputs": [],
   "source": [
    "model.get_n_updates()"
   ]
  },
  {
   "cell_type": "code",
   "execution_count": null,
   "id": "fe222cb7-4b14-4218-98ad-7a1d79b4714e",
   "metadata": {},
   "outputs": [],
   "source": [
    "tf.global_variables()"
   ]
  },
  {
   "cell_type": "code",
   "execution_count": null,
   "id": "506743b5-252c-4034-8e08-aab93aaac37c",
   "metadata": {},
   "outputs": [],
   "source": [
    "with tf.Session() as sess:\n",
    "  # input_ids = tf.Variable(tf.constant([[    2,    17, 11900,    14,     8,   772,    11,     8, 20797, 14527, 12,    95,  1096,  2365,    76,     3]], dtype=tf.int32))\n",
    "  # input_mask = tf.Variable(tf.constant([[1, 1, 1, 1, 1, 1, 1, 1, 1, 1, 1, 1, 1, 1, 1, 1]], dtype=tf.int32))\n",
    "  # segment_ids = tf.Variable(tf.constant([[0, 0, 0, 0, 0, 0, 0, 0, 0, 0, 0, 0, 0, 0, 0, 0]], dtype=tf.int32))\n",
    "  # init = tf.global_variables_initializer()\n",
    "  # tf.train.init_from_checkpoint(INIT_CHECKPOINT, assignment_map[0])\n",
    "  # tf.global_variables_initializer().run()\n",
    "  tf.initialize_variables(var_list=tf.trainable_variables()).run()\n",
    "  \n",
    "  # sess.run(init)\n",
    "  # print(tvars[0].eval())\n",
    "  \n",
    "  # print(sess.run('bert/embeddings/word_embeddings:0'))\n",
    "  # print(sess.run('bert/encoder/transformer/ffn_1/intermediate/dense/kernel:0'))\n",
    "  # print(sess.run('bert/encoder/transformer/sigmoid_activation_for_pondering/dense/kernel:0'))\n",
    "  print(model.get_n_updates().eval())\n",
    "  # print(model.embedding_output.eval())\n",
    "  # print(model.sequence_output.eval())\n",
    "  \n"
   ]
  },
  {
   "cell_type": "code",
   "execution_count": null,
   "id": "53e183a1-1fd2-44df-8b08-a50e5d63afe3",
   "metadata": {},
   "outputs": [],
   "source": [
    "# with tf.Session() as sess:\n",
    "#   new_saver = tf.train.import_meta_graph('./model.ckpt-112500.meta')\n",
    "#   new_saver.restore(sess, './model.ckpt-112500')\n",
    "# not working since tpu checkpoint. Should be converted"
   ]
  },
  {
   "cell_type": "code",
   "execution_count": null,
   "id": "dd77d907-b268-40a8-8685-74a7947dc598",
   "metadata": {},
   "outputs": [],
   "source": [
    "tf.compat.v1.disable_eager_execution()\n",
    "\n",
    "input_ids = tf.compat.v1.placeholder(tf.int32, [None, None], \"input_ids\")\n",
    "input_mask = tf.compat.v1.placeholder(tf.int32, [None, None], \"input_mask\")\n",
    "segment_ids = tf.compat.v1.placeholder(tf.int32, [None, None], \"segment_ids\")\n",
    "mlm_positions = tf.compat.v1.placeholder(tf.int32, [None, None], \"mlm_positions\")\n",
    "\n",
    "model = modeling.AlbertModelWithACT(\n",
    "    config=albert_config,\n",
    "    is_training=False,\n",
    "    input_ids=input_ids,\n",
    "    input_mask=input_mask,\n",
    "    token_type_ids=segment_ids,\n",
    "    use_one_hot_embeddings=False)"
   ]
  },
  {
   "cell_type": "code",
   "execution_count": null,
   "id": "dc9b9069-0647-43eb-a906-074bf93b5c0f",
   "metadata": {},
   "outputs": [],
   "source": [
    "tvars = tf.compat.v1.trainable_variables()"
   ]
  },
  {
   "cell_type": "code",
   "execution_count": null,
   "id": "9a9d5725-194c-4ad6-a689-825b4e41d9f3",
   "metadata": {},
   "outputs": [],
   "source": [
    "INIT_CHECKPOINT = \"./model.ckpt-112500\""
   ]
  },
  {
   "cell_type": "code",
   "execution_count": null,
   "id": "b727e574-d4d9-401a-bbbb-baaa3855faf2",
   "metadata": {},
   "outputs": [],
   "source": [
    "(assignment_map, initialized_variable_names\n",
    ") = modeling.get_assignment_map_from_checkpoint(tvars, INIT_CHECKPOINT)"
   ]
  },
  {
   "cell_type": "code",
   "execution_count": null,
   "id": "08bc1d0a-c1b1-4c34-8329-afa7615ee628",
   "metadata": {},
   "outputs": [],
   "source": [
    "# ckpt_reader = tf.train.NewCheckpointReader(INIT_CHECKPOINT)"
   ]
  },
  {
   "cell_type": "code",
   "execution_count": null,
   "id": "8a1f1f92-3128-45fd-a35d-9d5508d5c327",
   "metadata": {},
   "outputs": [],
   "source": [
    "tf.compat.v1.train.init_from_checkpoint(INIT_CHECKPOINT, assignment_map)"
   ]
  },
  {
   "cell_type": "code",
   "execution_count": null,
   "id": "34899b4f-0b1f-4cfa-9d7e-4c24d5b78a21",
   "metadata": {},
   "outputs": [],
   "source": [
    "init = tf.compat.v1.global_variables_initializer()"
   ]
  },
  {
   "cell_type": "code",
   "execution_count": null,
   "id": "5f8dbfbe-e1b2-4ba8-8234-2c8554a0b0bc",
   "metadata": {},
   "outputs": [],
   "source": [
    "sess = tf.compat.v1.InteractiveSession()"
   ]
  },
  {
   "cell_type": "code",
   "execution_count": null,
   "id": "05e38470-c75b-43e3-8cb3-80e2bd636e30",
   "metadata": {},
   "outputs": [],
   "source": [
    "sess.run(init)"
   ]
  },
  {
   "cell_type": "code",
   "execution_count": null,
   "id": "4572916f-fb0d-472e-a929-25ba8b07e73b",
   "metadata": {},
   "outputs": [],
   "source": [
    "tvars[18].name.strip()[:-2]"
   ]
  },
  {
   "cell_type": "code",
   "execution_count": null,
   "id": "017b8a1d-8d29-49b4-a15b-69af5608aa13",
   "metadata": {},
   "outputs": [],
   "source": [
    "tvars[18].eval()"
   ]
  },
  {
   "cell_type": "code",
   "execution_count": null,
   "id": "b3b7668c-a341-49e6-88f1-2a4b4dccfc66",
   "metadata": {},
   "outputs": [],
   "source": [
    "for tv in tvars:\n",
    "  file_name = os.path.join('./weights/', '{}.npy'.format(tv.name.strip()[:-2].replace('/', '-')))\n",
    "  print(file_name)\n",
    "  with open(file_name, 'wb') as f:\n",
    "    np.save(f, tv.eval())"
   ]
  },
  {
   "cell_type": "code",
   "execution_count": null,
   "id": "b2c8d13f-f7c7-4ec7-933d-620957bd9ab9",
   "metadata": {},
   "outputs": [],
   "source": [
    "# with tf.Session() as sess:\n",
    "#   sess.run(init)\n",
    "#   print(tvars[0].eval())"
   ]
  },
  {
   "cell_type": "code",
   "execution_count": null,
   "id": "4f532f77-ed21-4991-b2fa-705e763e4f2f",
   "metadata": {},
   "outputs": [],
   "source": [
    "# with tf.Session() as sess:  print(tvars[0].eval()) "
   ]
  },
  {
   "cell_type": "code",
   "execution_count": null,
   "id": "a1edbfdc-4759-4270-bb3d-ee181463b001",
   "metadata": {},
   "outputs": [],
   "source": [
    "initialized_variable_names"
   ]
  },
  {
   "cell_type": "code",
   "execution_count": null,
   "id": "7b61dbb7-7981-4016-94e9-5c8803b9e429",
   "metadata": {},
   "outputs": [],
   "source": []
  }
 ],
 "metadata": {
  "kernelspec": {
   "display_name": "Python 3.9.5 64-bit",
   "language": "python",
   "name": "python3"
  },
  "language_info": {
   "codemirror_mode": {
    "name": "ipython",
    "version": 3
   },
   "file_extension": ".py",
   "mimetype": "text/x-python",
   "name": "python",
   "nbconvert_exporter": "python",
   "pygments_lexer": "ipython3",
   "version": "3.9.5"
  },
  "vscode": {
   "interpreter": {
    "hash": "aee8b7b246df8f9039afb4144a1f6fd8d2ca17a180786b69acc140d282b71a49"
   }
  }
 },
 "nbformat": 4,
 "nbformat_minor": 5
}
