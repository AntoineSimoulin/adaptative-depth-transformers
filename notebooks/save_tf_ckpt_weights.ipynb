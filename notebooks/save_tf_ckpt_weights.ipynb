{
 "cells": [
  {
   "cell_type": "code",
   "execution_count": null,
   "id": "0c70e4eb-baf5-46fe-88b3-9ec26e2ca61b",
   "metadata": {},
   "outputs": [],
   "source": [
    "# With ipython notebooks\n",
    "%env CUDA_DEVICE_ORDER=PCI_BUS_ID\n",
    "%env CUDA_VISIBLE_DEVICES=\"\"\n",
    "\n",
    "# With python\n",
    "# import os\n",
    "# os.environ[\"CUDA_DEVICE_ORDER\"]=\"PCI_BUS_ID\"\n",
    "# os.environ['CUDA_VISIBLE_DEVICES'] = \"0,3\"  # specify which GPU(s) to be used\n",
    "\n",
    "# With bash\n",
    "# export CUDA_DEVICE_ORDER=\"PCI_BUS_ID\"\n",
    "# export CUDA_VISIBLE_DEVICES=\"0,3\" \n",
    "\n",
    "import os\n",
    "import numpy as np\n",
    "import tensorflow as tf\n",
    "# tf.enable_eager_execution()\n",
    "# import tensorflow.compat.v1 as tf\n",
    "# tf.disable_v2_behavior() \n",
    "# tf.enable_eager_execution()\n",
    "\n",
    "\n",
    "from albert_act_v2 import (\n",
    "    modeling, \n",
    "    optimization, \n",
    "    tokenization\n",
    ")\n",
    "\n",
    "# IPython automatically reload all changed code\n",
    "%load_ext autoreload\n",
    "%autoreload 2"
   ]
  },
  {
   "cell_type": "code",
   "execution_count": null,
   "id": "fcbcd7bb-3e1b-41ca-b9ee-bc4afe368716",
   "metadata": {},
   "outputs": [],
   "source": [
    "tf.__version__"
   ]
  },
  {
   "cell_type": "code",
   "execution_count": null,
   "id": "abf38f4c-18a4-4c11-823a-4f361024690c",
   "metadata": {},
   "outputs": [],
   "source": [
    "albert_config = modeling.AlbertConfig.from_json_file('./albert_config.json')"
   ]
  },
  {
   "cell_type": "code",
   "execution_count": null,
   "id": "35e85049-f7b1-4268-8413-382bfaaa7c34",
   "metadata": {},
   "outputs": [],
   "source": [
    "tf.compat.v1.disable_eager_execution()\n",
    "\n",
    "input_ids = tf.compat.v1.placeholder(tf.int32, [None, None], \"input_ids\")\n",
    "input_mask = tf.compat.v1.placeholder(tf.int32, [None, None], \"input_mask\")\n",
    "segment_ids = tf.compat.v1.placeholder(tf.int32, [None, None], \"segment_ids\")\n",
    "mlm_positions = tf.compat.v1.placeholder(tf.int32, [None, None], \"mlm_positions\")\n",
    "\n",
    "model = modeling.AlbertModelWithACT(\n",
    "    config=albert_config,\n",
    "    is_training=False,\n",
    "    input_ids=input_ids,\n",
    "    input_mask=input_mask,\n",
    "    token_type_ids=segment_ids,\n",
    "    use_one_hot_embeddings=False)"
   ]
  },
  {
   "cell_type": "code",
   "execution_count": null,
   "id": "28bb8b51-4141-4534-ae4e-9c87429ba031",
   "metadata": {},
   "outputs": [],
   "source": [
    "tvars = tf.compat.v1.trainable_variables()\n",
    "tvars"
   ]
  },
  {
   "cell_type": "code",
   "execution_count": null,
   "id": "3af3b81e-bbae-4af4-8042-7defcafe1012",
   "metadata": {},
   "outputs": [],
   "source": [
    "INIT_CHECKPOINT = \"./model.ckpt-112500\""
   ]
  },
  {
   "cell_type": "code",
   "execution_count": null,
   "id": "96dc8a99-99f2-4371-8574-29cc8ffa7144",
   "metadata": {},
   "outputs": [],
   "source": [
    "(assignment_map, initialized_variable_names\n",
    ") = modeling.get_assignment_map_from_checkpoint(tvars, INIT_CHECKPOINT)"
   ]
  },
  {
   "cell_type": "code",
   "execution_count": null,
   "id": "6746a73b-0019-4420-8094-6fca9ff70960",
   "metadata": {},
   "outputs": [],
   "source": [
    "assignment_map"
   ]
  },
  {
   "cell_type": "code",
   "execution_count": null,
   "id": "ebed9370-e1cd-4b42-9c8c-3c7f19ac68f6",
   "metadata": {},
   "outputs": [],
   "source": [
    "reader = tf.train.load_checkpoint(\"./model.ckpt-112500\")\n",
    "shapes = reader.get_variable_to_shape_map()\n",
    "dtypes = reader.get_variable_to_dtype_map()"
   ]
  },
  {
   "cell_type": "code",
   "execution_count": null,
   "id": "323ab668-d0a2-4cb3-8bdf-40b8d579a5d8",
   "metadata": {},
   "outputs": [],
   "source": [
    "reader.get_tensor('bert/embeddings/LayerNorm/gamma')"
   ]
  },
  {
   "cell_type": "code",
   "execution_count": null,
   "id": "68015db9-66e8-4218-bd96-79c480ee5135",
   "metadata": {},
   "outputs": [],
   "source": [
    "for (k, v) in assignment_map.items():\n",
    "  file_name = os.path.join('./weights/', '{}.npy'.format(v.strip().replace('/', '-')))\n",
    "  print(file_name)\n",
    "  with open(file_name, 'wb') as f:\n",
    "    np.save(f, reader.get_tensor(k))"
   ]
  },
  {
   "cell_type": "code",
   "execution_count": null,
   "id": "f1178756-81da-4a79-93f4-f7586ef92290",
   "metadata": {},
   "outputs": [],
   "source": [
    "with open(os.path.join('./weights/', '{}.npy'.format('transformer-layer_normalization-beta')), 'rb') as f:\n",
    "    save_param = np.load(f)\n",
    "print(save_param[:10])"
   ]
  }
 ],
 "metadata": {
  "kernelspec": {
   "display_name": "Python 3.9.5 64-bit",
   "language": "python",
   "name": "python3"
  },
  "language_info": {
   "codemirror_mode": {
    "name": "ipython",
    "version": 3
   },
   "file_extension": ".py",
   "mimetype": "text/x-python",
   "name": "python",
   "nbconvert_exporter": "python",
   "pygments_lexer": "ipython3",
   "version": "3.9.5"
  },
  "vscode": {
   "interpreter": {
    "hash": "aee8b7b246df8f9039afb4144a1f6fd8d2ca17a180786b69acc140d282b71a49"
   }
  }
 },
 "nbformat": 4,
 "nbformat_minor": 5
}
